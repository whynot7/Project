{
 "cells": [
  {
   "cell_type": "markdown",
   "id": "05ffc5e1",
   "metadata": {},
   "source": [
    "# How does Finance work?\n",
    "## We'll tell you"
   ]
  },
  {
   "cell_type": "markdown",
   "id": "a003b96d",
   "metadata": {},
   "source": [
    "But first of all, we're going to need some modules to help us analyze the Data from *Yahoo Finance*. \n",
    "\n",
    "We're going to import them the most convenient way:"
   ]
  },
  {
   "cell_type": "code",
   "execution_count": 4,
   "id": "e6ce74bc",
   "metadata": {},
   "outputs": [],
   "source": [
    "import pandas as pd\n",
    "import numpy as np\n",
    "import matplotlib.pyplot as plt\n",
    "import seaborn as sns"
   ]
  },
  {
   "cell_type": "code",
   "execution_count": null,
   "id": "533e1878",
   "metadata": {},
   "outputs": [],
   "source": []
  }
 ],
 "metadata": {
  "kernelspec": {
   "display_name": "Python 3 (ipykernel)",
   "language": "python",
   "name": "python3"
  },
  "language_info": {
   "codemirror_mode": {
    "name": "ipython",
    "version": 3
   },
   "file_extension": ".py",
   "mimetype": "text/x-python",
   "name": "python",
   "nbconvert_exporter": "python",
   "pygments_lexer": "ipython3",
   "version": "3.9.7"
  }
 },
 "nbformat": 4,
 "nbformat_minor": 5
}
