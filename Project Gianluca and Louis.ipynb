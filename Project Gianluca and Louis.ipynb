{
 "cells": [
  {
   "cell_type": "markdown",
   "id": "05ffc5e1",
   "metadata": {},
   "source": [
    "# How does Finance work?\n",
    "## We'll tell you"
   ]
  },
  {
   "cell_type": "markdown",
   "id": "a003b96d",
   "metadata": {},
   "source": [
    "But first of all, we're going to need some modules to help us analyze the Data from *Yahoo Finance*. We're not yet sure that we're going to need them all, but it's easier that way. And the way we've learned it, thats what programming is all about."
   ]
  },
  {
   "cell_type": "raw",
   "id": "5df146b8",
   "metadata": {},
   "source": [
    "!pip install yfinance\n",
    "!pip install yahoofinancials\n",
    "pip install pandas_datareader\n",
    "pip install pandas-datareader"
   ]
  },
  {
   "cell_type": "code",
   "execution_count": 6,
   "id": "e6ce74bc",
   "metadata": {},
   "outputs": [
    {
     "ename": "ModuleNotFoundError",
     "evalue": "No module named 'yfinance'",
     "output_type": "error",
     "traceback": [
      "\u001b[1;31m---------------------------------------------------------------------------\u001b[0m",
      "\u001b[1;31mModuleNotFoundError\u001b[0m                       Traceback (most recent call last)",
      "\u001b[1;32mC:\\Users\\GIANLU~1\\AppData\\Local\\Temp/ipykernel_14700/3386643151.py\u001b[0m in \u001b[0;36m<module>\u001b[1;34m\u001b[0m\n\u001b[0;32m      6\u001b[0m \u001b[1;32mimport\u001b[0m \u001b[0mos\u001b[0m\u001b[1;33m.\u001b[0m\u001b[0mpath\u001b[0m \u001b[1;31m#that one is neccesary to import data direclty from an URL\u001b[0m\u001b[1;33m\u001b[0m\u001b[1;33m\u001b[0m\u001b[0m\n\u001b[0;32m      7\u001b[0m \u001b[1;32mfrom\u001b[0m \u001b[0mbs4\u001b[0m \u001b[1;32mimport\u001b[0m \u001b[0mBeautifulSoup\u001b[0m \u001b[1;31m#not sure, but that one website said we needed it..\u001b[0m\u001b[1;33m\u001b[0m\u001b[1;33m\u001b[0m\u001b[0m\n\u001b[1;32m----> 8\u001b[1;33m \u001b[1;32mimport\u001b[0m \u001b[0myfinance\u001b[0m \u001b[1;32mas\u001b[0m \u001b[0myf\u001b[0m \u001b[1;31m#very important to import data from yahoo finance!\u001b[0m\u001b[1;33m\u001b[0m\u001b[1;33m\u001b[0m\u001b[0m\n\u001b[0m\u001b[0;32m      9\u001b[0m \u001b[1;32mfrom\u001b[0m \u001b[0myahoofinancials\u001b[0m \u001b[1;32mimport\u001b[0m \u001b[0mYahooFinancials\u001b[0m \u001b[1;31m#to analyse the data\u001b[0m\u001b[1;33m\u001b[0m\u001b[1;33m\u001b[0m\u001b[0m\n\u001b[0;32m     10\u001b[0m \u001b[1;32mfrom\u001b[0m \u001b[0mpandas_datareader\u001b[0m \u001b[1;32mimport\u001b[0m \u001b[0mdata\u001b[0m\u001b[1;33m\u001b[0m\u001b[1;33m\u001b[0m\u001b[0m\n",
      "\u001b[1;31mModuleNotFoundError\u001b[0m: No module named 'yfinance'"
     ]
    }
   ],
   "source": [
    "import pandas as pd #pandas is the main module we're going to use to analyse the data\n",
    "import numpy as np #numpy is very useful aswell, but not as powerful as pandas\n",
    "import matplotlib.pyplot as plt #thats what we're going to use to visualise our data\n",
    "import seaborn as sns #maybe that one aswell, but only if we want to get real fancy\n",
    "import os #we're needing that to get rid of files\n",
    "import os.path #that one is neccesary to import data direclty from an URL\n",
    "from bs4 import BeautifulSoup #not sure, but that one website said we needed it..\n",
    "import yfinance as yf #very important to import data from yahoo finance!\n",
    "from yahoofinancials import YahooFinancials #to analyse the data\n",
    "from pandas_datareader import data\n",
    "from datetime import datetime #so we can work with dates\n",
    "from datetime import date"
   ]
  },
  {
   "cell_type": "markdown",
   "id": "c989a700",
   "metadata": {},
   "source": [
    "Secondly, we'll define some things to make programming easier in the future. "
   ]
  },
  {
   "cell_type": "code",
   "execution_count": null,
   "id": "d918fbbe",
   "metadata": {},
   "outputs": [],
   "source": [
    "today = date.today()"
   ]
  },
  {
   "cell_type": "markdown",
   "id": "54a3d33e",
   "metadata": {},
   "source": [
    "# Plots\n",
    "\n",
    "Since we're going to be ploting a lot of Data in this assignment, we're going to set a norm for how bit our plots are going to get, just to have a nice and clean project. \n",
    "\n",
    "## Defined size\n",
    "\n",
    "We're going to use 14 on the x-axis and 7 on the y-axis."
   ]
  },
  {
   "cell_type": "markdown",
   "id": "55de4a26",
   "metadata": {},
   "source": [
    "# Now lets begin analysing something\n",
    "\n",
    "First we need to Import our data"
   ]
  },
  {
   "cell_type": "code",
   "execution_count": 4,
   "id": "61bac336",
   "metadata": {},
   "outputs": [],
   "source": [
    "tickers = ['BTC-USD', '^GSPC']\n",
    "start_date = '2010-01-01'\n",
    "end_date = '2016-12-31'"
   ]
  },
  {
   "cell_type": "code",
   "execution_count": 5,
   "id": "99e288a6",
   "metadata": {},
   "outputs": [
    {
     "ename": "NameError",
     "evalue": "name 'yf' is not defined",
     "output_type": "error",
     "traceback": [
      "\u001b[1;31m---------------------------------------------------------------------------\u001b[0m",
      "\u001b[1;31mNameError\u001b[0m                                 Traceback (most recent call last)",
      "\u001b[1;32mC:\\Users\\GIANLU~1\\AppData\\Local\\Temp/ipykernel_14700/2110191740.py\u001b[0m in \u001b[0;36m<module>\u001b[1;34m\u001b[0m\n\u001b[1;32m----> 1\u001b[1;33m \u001b[0mbtc_df\u001b[0m \u001b[1;33m=\u001b[0m \u001b[0myf\u001b[0m\u001b[1;33m.\u001b[0m\u001b[0mdownload\u001b[0m\u001b[1;33m(\u001b[0m\u001b[1;34m'BTC-USD'\u001b[0m\u001b[1;33m,\u001b[0m\u001b[0mstart\u001b[0m\u001b[1;33m=\u001b[0m\u001b[1;34m'2008-01-01'\u001b[0m\u001b[1;33m,\u001b[0m \u001b[0mend\u001b[0m\u001b[1;33m=\u001b[0m \u001b[0mtoday\u001b[0m \u001b[1;33m,\u001b[0m \u001b[0mprogress\u001b[0m\u001b[1;33m=\u001b[0m\u001b[1;32mFalse\u001b[0m\u001b[1;33m,\u001b[0m\u001b[1;33m)\u001b[0m \u001b[1;31m#example how to download something from yahoo finance, here we've got the stock price for apple\u001b[0m\u001b[1;33m\u001b[0m\u001b[1;33m\u001b[0m\u001b[0m\n\u001b[0m",
      "\u001b[1;31mNameError\u001b[0m: name 'yf' is not defined"
     ]
    }
   ],
   "source": [
    "btc_df = yf.download('BTC-USD',start='2008-01-01', end= today , progress=False,) #example how to download something from yahoo finance, here we've got the stock price for apple"
   ]
  },
  {
   "cell_type": "code",
   "execution_count": 6,
   "id": "2944949c",
   "metadata": {
    "scrolled": true
   },
   "outputs": [
    {
     "data": {
      "text/html": [
       "<div>\n",
       "<style scoped>\n",
       "    .dataframe tbody tr th:only-of-type {\n",
       "        vertical-align: middle;\n",
       "    }\n",
       "\n",
       "    .dataframe tbody tr th {\n",
       "        vertical-align: top;\n",
       "    }\n",
       "\n",
       "    .dataframe thead th {\n",
       "        text-align: right;\n",
       "    }\n",
       "</style>\n",
       "<table border=\"1\" class=\"dataframe\">\n",
       "  <thead>\n",
       "    <tr style=\"text-align: right;\">\n",
       "      <th></th>\n",
       "      <th>Open</th>\n",
       "      <th>High</th>\n",
       "      <th>Low</th>\n",
       "      <th>Close</th>\n",
       "      <th>Adj Close</th>\n",
       "      <th>Volume</th>\n",
       "    </tr>\n",
       "    <tr>\n",
       "      <th>Date</th>\n",
       "      <th></th>\n",
       "      <th></th>\n",
       "      <th></th>\n",
       "      <th></th>\n",
       "      <th></th>\n",
       "      <th></th>\n",
       "    </tr>\n",
       "  </thead>\n",
       "  <tbody>\n",
       "    <tr>\n",
       "      <th>2014-09-17</th>\n",
       "      <td>465.864014</td>\n",
       "      <td>468.174011</td>\n",
       "      <td>452.421997</td>\n",
       "      <td>457.334015</td>\n",
       "      <td>457.334015</td>\n",
       "      <td>21056800</td>\n",
       "    </tr>\n",
       "    <tr>\n",
       "      <th>2014-09-18</th>\n",
       "      <td>456.859985</td>\n",
       "      <td>456.859985</td>\n",
       "      <td>413.104004</td>\n",
       "      <td>424.440002</td>\n",
       "      <td>424.440002</td>\n",
       "      <td>34483200</td>\n",
       "    </tr>\n",
       "    <tr>\n",
       "      <th>2014-09-19</th>\n",
       "      <td>424.102997</td>\n",
       "      <td>427.834991</td>\n",
       "      <td>384.532013</td>\n",
       "      <td>394.795990</td>\n",
       "      <td>394.795990</td>\n",
       "      <td>37919700</td>\n",
       "    </tr>\n",
       "    <tr>\n",
       "      <th>2014-09-20</th>\n",
       "      <td>394.673004</td>\n",
       "      <td>423.295990</td>\n",
       "      <td>389.882996</td>\n",
       "      <td>408.903992</td>\n",
       "      <td>408.903992</td>\n",
       "      <td>36863600</td>\n",
       "    </tr>\n",
       "    <tr>\n",
       "      <th>2014-09-21</th>\n",
       "      <td>408.084991</td>\n",
       "      <td>412.425995</td>\n",
       "      <td>393.181000</td>\n",
       "      <td>398.821014</td>\n",
       "      <td>398.821014</td>\n",
       "      <td>26580100</td>\n",
       "    </tr>\n",
       "  </tbody>\n",
       "</table>\n",
       "</div>"
      ],
      "text/plain": [
       "                  Open        High         Low       Close   Adj Close  \\\n",
       "Date                                                                     \n",
       "2014-09-17  465.864014  468.174011  452.421997  457.334015  457.334015   \n",
       "2014-09-18  456.859985  456.859985  413.104004  424.440002  424.440002   \n",
       "2014-09-19  424.102997  427.834991  384.532013  394.795990  394.795990   \n",
       "2014-09-20  394.673004  423.295990  389.882996  408.903992  408.903992   \n",
       "2014-09-21  408.084991  412.425995  393.181000  398.821014  398.821014   \n",
       "\n",
       "              Volume  \n",
       "Date                  \n",
       "2014-09-17  21056800  \n",
       "2014-09-18  34483200  \n",
       "2014-09-19  37919700  \n",
       "2014-09-20  36863600  \n",
       "2014-09-21  26580100  "
      ]
     },
     "execution_count": 6,
     "metadata": {},
     "output_type": "execute_result"
    }
   ],
   "source": [
    "btc_df.head()"
   ]
  },
  {
   "cell_type": "code",
   "execution_count": null,
   "id": "4b60003a",
   "metadata": {},
   "outputs": [],
   "source": []
  },
  {
   "cell_type": "code",
   "execution_count": 8,
   "id": "bc2d28fa",
   "metadata": {},
   "outputs": [],
   "source": [
    "sp_df = yf.download('^GSPC',start='2008-01-01', end= today , progress=False,)"
   ]
  },
  {
   "cell_type": "code",
   "execution_count": 9,
   "id": "59064c70",
   "metadata": {},
   "outputs": [
    {
     "data": {
      "text/html": [
       "<div>\n",
       "<style scoped>\n",
       "    .dataframe tbody tr th:only-of-type {\n",
       "        vertical-align: middle;\n",
       "    }\n",
       "\n",
       "    .dataframe tbody tr th {\n",
       "        vertical-align: top;\n",
       "    }\n",
       "\n",
       "    .dataframe thead th {\n",
       "        text-align: right;\n",
       "    }\n",
       "</style>\n",
       "<table border=\"1\" class=\"dataframe\">\n",
       "  <thead>\n",
       "    <tr style=\"text-align: right;\">\n",
       "      <th></th>\n",
       "      <th>Open</th>\n",
       "      <th>High</th>\n",
       "      <th>Low</th>\n",
       "      <th>Close</th>\n",
       "      <th>Adj Close</th>\n",
       "      <th>Volume</th>\n",
       "    </tr>\n",
       "    <tr>\n",
       "      <th>Date</th>\n",
       "      <th></th>\n",
       "      <th></th>\n",
       "      <th></th>\n",
       "      <th></th>\n",
       "      <th></th>\n",
       "      <th></th>\n",
       "    </tr>\n",
       "  </thead>\n",
       "  <tbody>\n",
       "    <tr>\n",
       "      <th>2007-12-31</th>\n",
       "      <td>1475.250000</td>\n",
       "      <td>1475.829956</td>\n",
       "      <td>1465.130005</td>\n",
       "      <td>1468.359985</td>\n",
       "      <td>1468.359985</td>\n",
       "      <td>2440880000</td>\n",
       "    </tr>\n",
       "    <tr>\n",
       "      <th>2008-01-02</th>\n",
       "      <td>1467.969971</td>\n",
       "      <td>1471.770020</td>\n",
       "      <td>1442.069946</td>\n",
       "      <td>1447.160034</td>\n",
       "      <td>1447.160034</td>\n",
       "      <td>3452650000</td>\n",
       "    </tr>\n",
       "    <tr>\n",
       "      <th>2008-01-03</th>\n",
       "      <td>1447.550049</td>\n",
       "      <td>1456.800049</td>\n",
       "      <td>1443.729980</td>\n",
       "      <td>1447.160034</td>\n",
       "      <td>1447.160034</td>\n",
       "      <td>3429500000</td>\n",
       "    </tr>\n",
       "    <tr>\n",
       "      <th>2008-01-04</th>\n",
       "      <td>1444.010010</td>\n",
       "      <td>1444.010010</td>\n",
       "      <td>1411.189941</td>\n",
       "      <td>1411.630005</td>\n",
       "      <td>1411.630005</td>\n",
       "      <td>4166000000</td>\n",
       "    </tr>\n",
       "    <tr>\n",
       "      <th>2008-01-07</th>\n",
       "      <td>1414.069946</td>\n",
       "      <td>1423.869995</td>\n",
       "      <td>1403.449951</td>\n",
       "      <td>1416.180054</td>\n",
       "      <td>1416.180054</td>\n",
       "      <td>4221260000</td>\n",
       "    </tr>\n",
       "  </tbody>\n",
       "</table>\n",
       "</div>"
      ],
      "text/plain": [
       "                   Open         High          Low        Close    Adj Close  \\\n",
       "Date                                                                          \n",
       "2007-12-31  1475.250000  1475.829956  1465.130005  1468.359985  1468.359985   \n",
       "2008-01-02  1467.969971  1471.770020  1442.069946  1447.160034  1447.160034   \n",
       "2008-01-03  1447.550049  1456.800049  1443.729980  1447.160034  1447.160034   \n",
       "2008-01-04  1444.010010  1444.010010  1411.189941  1411.630005  1411.630005   \n",
       "2008-01-07  1414.069946  1423.869995  1403.449951  1416.180054  1416.180054   \n",
       "\n",
       "                Volume  \n",
       "Date                    \n",
       "2007-12-31  2440880000  \n",
       "2008-01-02  3452650000  \n",
       "2008-01-03  3429500000  \n",
       "2008-01-04  4166000000  \n",
       "2008-01-07  4221260000  "
      ]
     },
     "execution_count": 9,
     "metadata": {},
     "output_type": "execute_result"
    }
   ],
   "source": [
    "sp_df.head()"
   ]
  },
  {
   "cell_type": "code",
   "execution_count": 41,
   "id": "3bceed28",
   "metadata": {},
   "outputs": [
    {
     "data": {
      "text/plain": [
       "Date\n",
       "1987-05-11    0.000536\n",
       "1987-08-10    0.000536\n",
       "1987-11-17    0.000714\n",
       "1988-02-12    0.000714\n",
       "1988-05-16    0.000714\n",
       "                ...   \n",
       "2021-02-05    0.205000\n",
       "2021-05-07    0.220000\n",
       "2021-08-06    0.220000\n",
       "2021-11-05    0.220000\n",
       "2022-02-04    0.220000\n",
       "Name: Dividends, Length: 74, dtype: float64"
      ]
     },
     "execution_count": 41,
     "metadata": {},
     "output_type": "execute_result"
    }
   ],
   "source": [
    "AAPL_T.dividends "
   ]
  },
  {
   "cell_type": "code",
   "execution_count": 62,
   "id": "6bf73f4c",
   "metadata": {},
   "outputs": [
    {
     "data": {
      "text/plain": [
       "<AxesSubplot:xlabel='Date'>"
      ]
     },
     "execution_count": 62,
     "metadata": {},
     "output_type": "execute_result"
    },
    {
     "data": {
      "image/png": "[encoded data removed]",
      "text/plain": [
       "<Figure size 1008x504 with 1 Axes>"
      ]
     },
     "metadata": {
      "needs_background": "light"
     },
     "output_type": "display_data"
    }
   ],
   "source": [
    "AAPL_T.dividends.plot(figsize=(14, 7))"
   ]
  },
  {
   "cell_type": "code",
   "execution_count": null,
   "id": "fa529c01",
   "metadata": {},
   "outputs": [],
   "source": [
    "\n"
   ]
  },
  {
   "cell_type": "markdown",
   "id": "8dab5956",
   "metadata": {},
   "source": [
    "# Data\n",
    "\n",
    "We're going to use Data from Yahoo Finance to analyse ______ (not yet sure what we're going to be analysing)"
   ]
  },
  {
   "cell_type": "code",
   "execution_count": null,
   "id": "5593528b",
   "metadata": {},
   "outputs": [],
   "source": []
  }
 ],
 "metadata": {
  "kernelspec": {
   "display_name": "Python 3 (ipykernel)",
   "language": "python",
   "name": "python3"
  },
  "language_info": {
   "codemirror_mode": {
    "name": "ipython",
    "version": 3
   },
   "file_extension": ".py",
   "mimetype": "text/x-python",
   "name": "python",
   "nbconvert_exporter": "python",
   "pygments_lexer": "ipython3",
   "version": "3.9.7"
  }
 },
 "nbformat": 4,
 "nbformat_minor": 5
}
